{
 "cells": [
  {
   "cell_type": "code",
   "execution_count": 1,
   "metadata": {},
   "outputs": [
    {
     "name": "stderr",
     "output_type": "stream",
     "text": [
      "2023-05-23 18:02:36.401828: W tensorflow/stream_executor/platform/default/dso_loader.cc:64] Could not load dynamic library 'libcudart.so.11.0'; dlerror: libcudart.so.11.0: cannot open shared object file: No such file or directory\n",
      "2023-05-23 18:02:36.401849: I tensorflow/stream_executor/cuda/cudart_stub.cc:29] Ignore above cudart dlerror if you do not have a GPU set up on your machine.\n"
     ]
    }
   ],
   "source": [
    "import keras\n",
    "from keras.models import Sequential\n",
    "from keras.layers import Dense, Conv2D , MaxPool2D , Flatten , Dropout \n",
    "from keras.preprocessing.image import ImageDataGenerator\n",
    "from keras.optimizers import Adam\n",
    "from keras.layers import BatchNormalization\n",
    "from keras.wrappers.scikit_learn import KerasClassifier\n",
    "import tensorflow as tf\n",
    "import cv2\n",
    "import os\n",
    "import numpy as np\n",
    "import seaborn as sns\n",
    "import matplotlib.pyplot as plt\n",
    "from matplotlib.animation import FuncAnimation\n"
   ]
  },
  {
   "cell_type": "code",
   "execution_count": 3,
   "metadata": {},
   "outputs": [
    {
     "ename": "error",
     "evalue": "OpenCV(4.7.0) /io/opencv/modules/imgproc/src/contours.cpp:195: error: (-210:Unsupported format or combination of formats) [Start]FindContours supports only CV_8UC1 images when mode != CV_RETR_FLOODFILL otherwise supports CV_32SC1 images only in function 'cvStartFindContours_Impl'\n",
     "output_type": "error",
     "traceback": [
      "\u001b[0;31m---------------------------------------------------------------------------\u001b[0m",
      "\u001b[0;31merror\u001b[0m                                     Traceback (most recent call last)",
      "\u001b[1;32m/home/pratyaksh/Desktop/CV/TIFR/code.ipynb Cell 2\u001b[0m in \u001b[0;36m<cell line: 55>\u001b[0;34m()\u001b[0m\n\u001b[1;32m     <a href='vscode-notebook-cell:/home/pratyaksh/Desktop/CV/TIFR/code.ipynb#W1sZmlsZQ%3D%3D?line=51'>52</a>\u001b[0m     cv2\u001b[39m.\u001b[39mdestroyAllWindows()\n\u001b[1;32m     <a href='vscode-notebook-cell:/home/pratyaksh/Desktop/CV/TIFR/code.ipynb#W1sZmlsZQ%3D%3D?line=53'>54</a>\u001b[0m \u001b[39m# Call the laser point detection function\u001b[39;00m\n\u001b[0;32m---> <a href='vscode-notebook-cell:/home/pratyaksh/Desktop/CV/TIFR/code.ipynb#W1sZmlsZQ%3D%3D?line=54'>55</a>\u001b[0m detect_laser_points()\n",
      "\u001b[1;32m/home/pratyaksh/Desktop/CV/TIFR/code.ipynb Cell 2\u001b[0m in \u001b[0;36mdetect_laser_points\u001b[0;34m()\u001b[0m\n\u001b[1;32m     <a href='vscode-notebook-cell:/home/pratyaksh/Desktop/CV/TIFR/code.ipynb#W1sZmlsZQ%3D%3D?line=22'>23</a>\u001b[0m _, threshold \u001b[39m=\u001b[39m cv2\u001b[39m.\u001b[39mthreshold(gray,\u001b[39m255\u001b[39m, \u001b[39m200\u001b[39m, \u001b[39m255\u001b[39m, cv2\u001b[39m.\u001b[39mTHRESH_BINARY)\n\u001b[1;32m     <a href='vscode-notebook-cell:/home/pratyaksh/Desktop/CV/TIFR/code.ipynb#W1sZmlsZQ%3D%3D?line=24'>25</a>\u001b[0m \u001b[39m# Find contours in the thresholded image\u001b[39;00m\n\u001b[0;32m---> <a href='vscode-notebook-cell:/home/pratyaksh/Desktop/CV/TIFR/code.ipynb#W1sZmlsZQ%3D%3D?line=25'>26</a>\u001b[0m contours, _ \u001b[39m=\u001b[39m cv2\u001b[39m.\u001b[39;49mfindContours(threshold, cv2\u001b[39m.\u001b[39;49mRETR_EXTERNAL, cv2\u001b[39m.\u001b[39;49mCHAIN_APPROX_SIMPLE)\n\u001b[1;32m     <a href='vscode-notebook-cell:/home/pratyaksh/Desktop/CV/TIFR/code.ipynb#W1sZmlsZQ%3D%3D?line=27'>28</a>\u001b[0m \u001b[39m# Process each contour\u001b[39;00m\n\u001b[1;32m     <a href='vscode-notebook-cell:/home/pratyaksh/Desktop/CV/TIFR/code.ipynb#W1sZmlsZQ%3D%3D?line=28'>29</a>\u001b[0m \u001b[39mfor\u001b[39;00m contour \u001b[39min\u001b[39;00m contours:\n\u001b[1;32m     <a href='vscode-notebook-cell:/home/pratyaksh/Desktop/CV/TIFR/code.ipynb#W1sZmlsZQ%3D%3D?line=29'>30</a>\u001b[0m     \u001b[39m# Calculate the area of the contour\u001b[39;00m\n",
      "\u001b[0;31merror\u001b[0m: OpenCV(4.7.0) /io/opencv/modules/imgproc/src/contours.cpp:195: error: (-210:Unsupported format or combination of formats) [Start]FindContours supports only CV_8UC1 images when mode != CV_RETR_FLOODFILL otherwise supports CV_32SC1 images only in function 'cvStartFindContours_Impl'\n"
     ]
    }
   ],
   "source": [
    "def detect_laser_points():\n",
    "    # Open the webcam\n",
    "    cap = cv2.VideoCapture(0)\n",
    "\n",
    "    # Check if the webcam is opened successfully\n",
    "    if not cap.isOpened():\n",
    "        print(\"Failed to open the webcam\")\n",
    "        return\n",
    "\n",
    "    while True:\n",
    "        # Read a frame from the webcam\n",
    "        ret, frame = cap.read()\n",
    "\n",
    "        # If the frame was not captured successfully, break the loop\n",
    "        if not ret:\n",
    "            print(\"Failed to capture frame from webcam\")\n",
    "            break\n",
    "\n",
    "        # Convert the frame to grayscale\n",
    "        gray = cv2.cvtColor(frame, cv2.COLOR_BGR2RGB)\n",
    "\n",
    "        # Threshold the grayscale image\n",
    "        _, threshold = cv2.threshold(gray,255, 200, 255, cv2.THRESH_BINARY)\n",
    "\n",
    "        # Find contours in the thresholded image\n",
    "        contours, _ = cv2.findContours(threshold, cv2.RETR_EXTERNAL, cv2.CHAIN_APPROX_SIMPLE)\n",
    "\n",
    "        # Process each contour\n",
    "        for contour in contours:\n",
    "            # Calculate the area of the contour\n",
    "            area = cv2.contourArea(contour)\n",
    "\n",
    "            # Filter out small contours\n",
    "            if area > 10:\n",
    "                # Find the centroid of the contour\n",
    "                M = cv2.moments(contour)\n",
    "                centroid_x = int(M[\"m10\"] / M[\"m00\"])\n",
    "                centroid_y = int(M[\"m01\"] / M[\"m00\"])\n",
    "\n",
    "                # Draw a circle at the centroid\n",
    "                cv2.circle(frame, (centroid_x, centroid_y), 5, (0, 255, 0), -1)\n",
    "\n",
    "        # Display the frame\n",
    "        cv2.imshow(\"Laser Point Detection\", frame)\n",
    "\n",
    "        # Check for the 'q' key press to exit\n",
    "        if cv2.waitKey(1) & 0xFF == ord('q'):\n",
    "            break\n",
    "\n",
    "    # Release the webcam and close any open windows\n",
    "    cap.release()\n",
    "    cv2.destroyAllWindows()\n",
    "\n",
    "# Call the laser point detection function\n",
    "detect_laser_points()\n"
   ]
  },
  {
   "cell_type": "code",
   "execution_count": 27,
   "metadata": {},
   "outputs": [],
   "source": [
    "import cv2\n",
    "import numpy as np\n",
    "\n",
    "def detect_red_laser_points():\n",
    "    # Open the webcam\n",
    "    cap = cv2.VideoCapture(0)\n",
    "\n",
    "    # Check if the webcam is opened successfully\n",
    "    if not cap.isOpened():\n",
    "        print(\"Failed to open the webcam\")\n",
    "        return\n",
    "\n",
    "    while True:\n",
    "        # Read a frame from the webcam\n",
    "        ret, frame = cap.read()\n",
    "\n",
    "        # If the frame was not captured successfully, break the loop\n",
    "        if not ret:\n",
    "            print(\"Failed to capture frame from webcam\")\n",
    "            break\n",
    "\n",
    "        # Convert the frame to HSV color space\n",
    "        hsv = cv2.cvtColor(frame, cv2.COLOR_BGR2HSV)\n",
    "\n",
    "        # Define lower and upper ranges for red color in HSV\n",
    "        lower_red = np.array([0, 120,70])\n",
    "        upper_red = np.array([20, 255, 255])\n",
    "\n",
    "        # Create a mask for red color\n",
    "        mask = cv2.inRange(hsv, lower_red, upper_red)\n",
    "        # Perform morphological operations to remove noise\n",
    "        mask = cv2.erode(mask, None, iterations=2)\n",
    "        mask = cv2.dilate(mask, None, iterations=2)\n",
    "\n",
    "        # Find contours in the masked image\n",
    "        contours, _ = cv2.findContours(mask.copy(), cv2.RETR_EXTERNAL, cv2.CHAIN_APPROX_SIMPLE)\n",
    "\n",
    "        # Process each contour\n",
    "        for contour in contours:\n",
    "            # Calculate the area of the contour\n",
    "            area = cv2.contourArea(contour)\n",
    "\n",
    "            # Filter out small contours\n",
    "            if area > 20:\n",
    "                # Find the centroid of the contour\n",
    "                M = cv2.moments(contour)\n",
    "                centroid_x = int(M[\"m10\"] / M[\"m00\"])\n",
    "                centroid_y = int(M[\"m01\"] / M[\"m00\"])\n",
    "\n",
    "                # Draw a circle at the centroid\n",
    "                cv2.circle(frame, (centroid_x, centroid_y), round((area/(np.pi))**0.5)*3, (0, 255, 0), 2)\n",
    "                cv2.putText(frame,(str(centroid_x)+','+str(centroid_y)),(centroid_x+20,centroid_y+30),cv2.FONT_HERSHEY_COMPLEX,1,(0,255,0),2)\n",
    "        \n",
    "        # Display the frame with laser points\n",
    "        cv2.imshow(\"Red Laser Point Detection\", frame)\n",
    "      \n",
    "        # Check for the 'q' key press to exit\n",
    "        if cv2.waitKey(1) & 0xFF == ord('q'):\n",
    "            break\n",
    "\n",
    "    # Release the webcam and close any open windows\n",
    "    cap.release()\n",
    "    cv2.destroyAllWindows()\n",
    "\n",
    "# Call the red laser point detection function\n",
    "detect_red_laser_points()\n"
   ]
  },
  {
   "cell_type": "code",
   "execution_count": null,
   "metadata": {},
   "outputs": [],
   "source": []
  }
 ],
 "metadata": {
  "kernelspec": {
   "display_name": "Python 3.10.6 64-bit",
   "language": "python",
   "name": "python3"
  },
  "language_info": {
   "codemirror_mode": {
    "name": "ipython",
    "version": 3
   },
   "file_extension": ".py",
   "mimetype": "text/x-python",
   "name": "python",
   "nbconvert_exporter": "python",
   "pygments_lexer": "ipython3",
   "version": "3.10.6"
  },
  "orig_nbformat": 4,
  "vscode": {
   "interpreter": {
    "hash": "916dbcbb3f70747c44a77c7bcd40155683ae19c65e1c03b4aa3499c5328201f1"
   }
  }
 },
 "nbformat": 4,
 "nbformat_minor": 2
}
