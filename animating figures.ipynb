{
 "cells": [
  {
   "cell_type": "code",
   "execution_count": 3,
   "metadata": {},
   "outputs": [
    {
     "name": "stdout",
     "output_type": "stream",
     "text": [
      "10  vectors: \n",
      " [[8.97919181 4.56194137]\n",
      " [5.83026397 5.59807869]\n",
      " [2.55048239 7.55101406]\n",
      " [5.64345393 6.84796251]\n",
      " [6.30184754 5.42648409]\n",
      " [8.21814843 8.02730657]\n",
      " [3.12267056 9.66373957]\n",
      " [9.78618952 0.57915149]\n",
      " [7.64304512 3.85075008]\n",
      " [9.43556696 8.31471151]]\n",
      "\n",
      "\n",
      "the vector with maximum magnitude is:  [9.43556695851055, 8.314711513262738] \n",
      "\n"
     ]
    }
   ],
   "source": [
    "# The Firebolt \n",
    "\n",
    "# importing libraries\n",
    "import numpy as np\n",
    "from matplotlib import pyplot as plt\n",
    "from celluloid import Camera\n",
    "import random as rd\n",
    " \n",
    "\n",
    "# defining functions\n",
    "\n",
    "# main code\n",
    "#size of list\n",
    "n = int(input('how many vectors do you want to generate: (for example 50) '))\n",
    "# range of the firebolt\n",
    "max_y = 10 \n",
    "min_y = 0\n",
    "max_x = 10\n",
    "min_x = 0\n",
    "X=[]   # to store x coordinate\n",
    "Y=[]    # to store y coordinate\n",
    "vector_list = []  # to store full vector\n",
    "magnitudes = []  # to store magnitude square of vector\n",
    "for i in range(n): \n",
    "    x = rd.uniform(min_x,max_x) \n",
    "    y = rd.uniform(min_y,max_y)\n",
    "    X.append(x)\n",
    "    Y.append(y)\n",
    "    magnitudes.append((x*x)+(y*y))\n",
    "    vector_list.append([x,y])\n",
    "print(str(n)+'  vectors: \\n',np.array(vector_list))\n",
    "    \n",
    "maxi =( max(magnitudes)) \n",
    "index_maxi = magnitudes.index(maxi)\n",
    "print('\\n\\nthe vector with maximum magnitude is: ',vector_list[index_maxi],'\\n')\n",
    " \n",
    "#---------adding vectors-------------\n"
   ]
  },
  {
   "cell_type": "code",
   "execution_count": 4,
   "metadata": {},
   "outputs": [
    {
     "name": "stderr",
     "output_type": "stream",
     "text": [
      "MovieWriter imagemagick unavailable; using Pillow instead.\n"
     ]
    },
    {
     "name": "stdout",
     "output_type": "stream",
     "text": [
      "\n",
      " final resultant vector is:  (67.51086023687893, 60.421139935711)\n"
     ]
    },
    {
     "data": {
      "image/png": "[encoded data removed]",
      "text/plain": [
       "<Figure size 432x288 with 1 Axes>"
      ]
     },
     "metadata": {
      "needs_background": "light"
     },
     "output_type": "display_data"
    },
    {
     "name": "stdout",
     "output_type": "stream",
     "text": [
      "a .gif file will be generated showing the addition of vectors\n"
     ]
    }
   ],
   "source": [
    "x = X[index_maxi]\n",
    "y = Y[index_maxi]\n",
    "\n",
    "fig = plt.figure()\n",
    "camera = Camera(fig)\n",
    "for i in range(len(X)): \n",
    "    if(i != index_maxi):\n",
    "        x += X[i]  \n",
    "        y += Y[i]\n",
    "        \n",
    "        plt.scatter([0],[0],marker ='o',s=80)\n",
    "\n",
    "        plt.plot([0,X[index_maxi]],[0,Y[index_maxi]],'black',lw=3)\n",
    "        \n",
    "        plt.plot([0,x],[0,y])\n",
    "        plt.grid()\n",
    "        camera.snap() \n",
    "        \n",
    "animation = camera.animate() \n",
    "animation.save('celluloid_minimal.gif', writer = 'imagemagick')\n",
    "final_vector = (x,y)        \n",
    "print('\\n final resultant vector is: ',final_vector)\n",
    "\n",
    "\n",
    "theta_maxi = np.arctan(Y[index_maxi]/X[index_maxi])\n",
    "theta_res = np.arctan(final_vector[1]/final_vector[0])\n",
    "theta = abs(theta_maxi - theta_res)*(180/np.pi)\n",
    "\n",
    "\n",
    "plt.plot([0,X[index_maxi]],[0,Y[index_maxi]],label='the vector with maximum magnitude') \n",
    "plt.plot([0,final_vector[0]],[0,final_vector[1]],label = 'final resultant vector')\n",
    "plt.title('angle between both = '+str(round(theta,2)) +' degree')\n",
    "plt.legend()\n",
    "plt.grid()\n",
    "plt.show()\n",
    "\n",
    "print('a .gif file will be generated showing the addition of vectors')"
   ]
  }
 ],
 "metadata": {
  "kernelspec": {
   "display_name": "Python 3.10.4 64-bit",
   "language": "python",
   "name": "python3"
  },
  "language_info": {
   "codemirror_mode": {
    "name": "ipython",
    "version": 3
   },
   "file_extension": ".py",
   "mimetype": "text/x-python",
   "name": "python",
   "nbconvert_exporter": "python",
   "pygments_lexer": "ipython3",
   "version": "3.10.4"
  },
  "orig_nbformat": 4,
  "vscode": {
   "interpreter": {
    "hash": "916dbcbb3f70747c44a77c7bcd40155683ae19c65e1c03b4aa3499c5328201f1"
   }
  }
 },
 "nbformat": 4,
 "nbformat_minor": 2
}
