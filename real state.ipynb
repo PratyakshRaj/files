{
 "cells": [
  {
   "cell_type": "code",
   "execution_count": 28,
   "id": "a1bb19b0",
   "metadata": {},
   "outputs": [],
   "source": [
    "import pandas as pd\n",
    "import numpy as np\n",
    "from sklearn.linear_model import LinearRegression\n",
    "from sklearn.metrics import mean_squared_error\n",
    "import matplotlib.pyplot as plt\n",
    "data=pd.read_csv(\"Real estate.csv\")"
   ]
  },
  {
   "cell_type": "code",
   "execution_count": 29,
   "id": "853a25ff",
   "metadata": {},
   "outputs": [
    {
     "data": {
      "text/html": [
       "<div>\n",
       "<style scoped>\n",
       "    .dataframe tbody tr th:only-of-type {\n",
       "        vertical-align: middle;\n",
       "    }\n",
       "\n",
       "    .dataframe tbody tr th {\n",
       "        vertical-align: top;\n",
       "    }\n",
       "\n",
       "    .dataframe thead th {\n",
       "        text-align: right;\n",
       "    }\n",
       "</style>\n",
       "<table border=\"1\" class=\"dataframe\">\n",
       "  <thead>\n",
       "    <tr style=\"text-align: right;\">\n",
       "      <th></th>\n",
       "      <th>No</th>\n",
       "      <th>X1 transaction date</th>\n",
       "      <th>X2 house age</th>\n",
       "      <th>X3 distance to the nearest MRT station</th>\n",
       "      <th>X4 number of convenience stores</th>\n",
       "      <th>X5 latitude</th>\n",
       "      <th>X6 longitude</th>\n",
       "      <th>Y house price of unit area</th>\n",
       "    </tr>\n",
       "  </thead>\n",
       "  <tbody>\n",
       "    <tr>\n",
       "      <th>0</th>\n",
       "      <td>1</td>\n",
       "      <td>2012.917</td>\n",
       "      <td>32.0</td>\n",
       "      <td>84.87882</td>\n",
       "      <td>10</td>\n",
       "      <td>24.98298</td>\n",
       "      <td>121.54024</td>\n",
       "      <td>37.9</td>\n",
       "    </tr>\n",
       "    <tr>\n",
       "      <th>1</th>\n",
       "      <td>2</td>\n",
       "      <td>2012.917</td>\n",
       "      <td>19.5</td>\n",
       "      <td>306.59470</td>\n",
       "      <td>9</td>\n",
       "      <td>24.98034</td>\n",
       "      <td>121.53951</td>\n",
       "      <td>42.2</td>\n",
       "    </tr>\n",
       "    <tr>\n",
       "      <th>2</th>\n",
       "      <td>3</td>\n",
       "      <td>2013.583</td>\n",
       "      <td>13.3</td>\n",
       "      <td>561.98450</td>\n",
       "      <td>5</td>\n",
       "      <td>24.98746</td>\n",
       "      <td>121.54391</td>\n",
       "      <td>47.3</td>\n",
       "    </tr>\n",
       "    <tr>\n",
       "      <th>3</th>\n",
       "      <td>4</td>\n",
       "      <td>2013.500</td>\n",
       "      <td>13.3</td>\n",
       "      <td>561.98450</td>\n",
       "      <td>5</td>\n",
       "      <td>24.98746</td>\n",
       "      <td>121.54391</td>\n",
       "      <td>54.8</td>\n",
       "    </tr>\n",
       "    <tr>\n",
       "      <th>4</th>\n",
       "      <td>5</td>\n",
       "      <td>2012.833</td>\n",
       "      <td>5.0</td>\n",
       "      <td>390.56840</td>\n",
       "      <td>5</td>\n",
       "      <td>24.97937</td>\n",
       "      <td>121.54245</td>\n",
       "      <td>43.1</td>\n",
       "    </tr>\n",
       "  </tbody>\n",
       "</table>\n",
       "</div>"
      ],
      "text/plain": [
       "   No  X1 transaction date  X2 house age  \\\n",
       "0   1             2012.917          32.0   \n",
       "1   2             2012.917          19.5   \n",
       "2   3             2013.583          13.3   \n",
       "3   4             2013.500          13.3   \n",
       "4   5             2012.833           5.0   \n",
       "\n",
       "   X3 distance to the nearest MRT station  X4 number of convenience stores  \\\n",
       "0                                84.87882                               10   \n",
       "1                               306.59470                                9   \n",
       "2                               561.98450                                5   \n",
       "3                               561.98450                                5   \n",
       "4                               390.56840                                5   \n",
       "\n",
       "   X5 latitude  X6 longitude  Y house price of unit area  \n",
       "0     24.98298     121.54024                        37.9  \n",
       "1     24.98034     121.53951                        42.2  \n",
       "2     24.98746     121.54391                        47.3  \n",
       "3     24.98746     121.54391                        54.8  \n",
       "4     24.97937     121.54245                        43.1  "
      ]
     },
     "execution_count": 29,
     "metadata": {},
     "output_type": "execute_result"
    }
   ],
   "source": [
    "data.head(5)"
   ]
  },
  {
   "cell_type": "code",
   "execution_count": 30,
   "id": "981675bd",
   "metadata": {},
   "outputs": [
    {
     "name": "stdout",
     "output_type": "stream",
     "text": [
      "<class 'pandas.core.frame.DataFrame'>\n",
      "RangeIndex: 414 entries, 0 to 413\n",
      "Data columns (total 8 columns):\n",
      " #   Column                                  Non-Null Count  Dtype  \n",
      "---  ------                                  --------------  -----  \n",
      " 0   No                                      414 non-null    int64  \n",
      " 1   X1 transaction date                     414 non-null    float64\n",
      " 2   X2 house age                            414 non-null    float64\n",
      " 3   X3 distance to the nearest MRT station  414 non-null    float64\n",
      " 4   X4 number of convenience stores         414 non-null    int64  \n",
      " 5   X5 latitude                             414 non-null    float64\n",
      " 6   X6 longitude                            414 non-null    float64\n",
      " 7   Y house price of unit area              414 non-null    float64\n",
      "dtypes: float64(6), int64(2)\n",
      "memory usage: 26.0 KB\n"
     ]
    }
   ],
   "source": [
    "data.info()"
   ]
  },
  {
   "cell_type": "code",
   "execution_count": 47,
   "id": "edf53656",
   "metadata": {},
   "outputs": [
    {
     "name": "stdout",
     "output_type": "stream",
     "text": [
      "0.00765460620869074\n"
     ]
    },
    {
     "data": {
      "text/plain": [
       "[<matplotlib.lines.Line2D at 0x11699465690>]"
      ]
     },
     "execution_count": 47,
     "metadata": {},
     "output_type": "execute_result"
    },
    {
     "data": {
      "image/png": "[encoded data removed]",
      "text/plain": [
       "<Figure size 432x288 with 1 Axes>"
      ]
     },
     "metadata": {
      "needs_background": "light"
     },
     "output_type": "display_data"
    }
   ],
   "source": [
    "x1= data[\"X1 transaction date\"]\n",
    "y=data[\"Y house price of unit area\"]\n",
    "x1=x1.values.reshape(-1,1)\n",
    "reg= LinearRegression()\n",
    "reg=reg.fit(x1,y)\n",
    "output_1=reg.predict(x1)\n",
    "r1=reg.score(x1,y)\n",
    "print(r1)\n",
    "\n",
    "plt.scatter(x1,y,color=\"Green\")\n",
    "plt.plot(x1,output_1,color=\"Red\")"
   ]
  },
  {
   "cell_type": "code",
   "execution_count": 60,
   "id": "af9ef096",
   "metadata": {},
   "outputs": [
    {
     "name": "stdout",
     "output_type": "stream",
     "text": [
      "0.04433848097791171\n"
     ]
    },
    {
     "data": {
      "text/plain": [
       "[<matplotlib.lines.Line2D at 0x11699895990>]"
      ]
     },
     "execution_count": 60,
     "metadata": {},
     "output_type": "execute_result"
    },
    {
     "data": {
      "image/png": "[encoded data removed]",
      "text/plain": [
       "<Figure size 432x288 with 1 Axes>"
      ]
     },
     "metadata": {
      "needs_background": "light"
     },
     "output_type": "display_data"
    }
   ],
   "source": [
    "x2=data[\"X2 house age\"]\n",
    "x2=x2.values.reshape(-1,1)\n",
    "reg=reg.fit(x2,y)\n",
    "output_2=reg.predict(x2)\n",
    "r2=reg.score(x2,y)\n",
    "print(r2)\n",
    "plt.scatter(x2,y,color=\"Green\")\n",
    "plt.plot(x2,output_2,color=\"Red\")"
   ]
  },
  {
   "cell_type": "code",
   "execution_count": 49,
   "id": "f54e99bf",
   "metadata": {},
   "outputs": [
    {
     "name": "stdout",
     "output_type": "stream",
     "text": [
      "0.45375427891826703\n"
     ]
    },
    {
     "data": {
      "text/plain": [
       "[<matplotlib.lines.Line2D at 0x1169974f1f0>]"
      ]
     },
     "execution_count": 49,
     "metadata": {},
     "output_type": "execute_result"
    },
    {
     "data": {
      "image/png": "[encoded data removed]",
      "text/plain": [
       "<Figure size 432x288 with 1 Axes>"
      ]
     },
     "metadata": {
      "needs_background": "light"
     },
     "output_type": "display_data"
    }
   ],
   "source": [
    "x3=data[\"X3 distance to the nearest MRT station\"]\n",
    "x3=x3.values.reshape(-1,1)\n",
    "reg=reg.fit(x3,y)\n",
    "output_3=reg.predict(x3)\n",
    "r3=reg.score(x3,y)\n",
    "print(r3)\n",
    "plt.scatter(x3,y,color=\"Green\")\n",
    "plt.plot(x3,output_3,color=\"Red\")"
   ]
  },
  {
   "cell_type": "code",
   "execution_count": 61,
   "id": "b7e1168a",
   "metadata": {},
   "outputs": [
    {
     "name": "stdout",
     "output_type": "stream",
     "text": [
      "0.32604660851305045\n"
     ]
    },
    {
     "data": {
      "text/plain": [
       "[<matplotlib.lines.Line2D at 0x11699d3c9a0>]"
      ]
     },
     "execution_count": 61,
     "metadata": {},
     "output_type": "execute_result"
    },
    {
     "data": {
      "image/png": "[encoded data removed]",
      "text/plain": [
       "<Figure size 432x288 with 1 Axes>"
      ]
     },
     "metadata": {
      "needs_background": "light"
     },
     "output_type": "display_data"
    }
   ],
   "source": [
    "x4=data[\"X4 number of convenience stores\"]\n",
    "x4=x4.values.reshape(-1,1)\n",
    "reg=reg.fit(x4,y)\n",
    "output_4=reg.predict(x4)\n",
    "r4=reg.score(x4,y)\n",
    "print(r4)\n",
    "plt.scatter(x4,y,color=\"Green\")\n",
    "plt.plot(x4,output_4,color=\"Red\")"
   ]
  },
  {
   "cell_type": "code",
   "execution_count": 62,
   "id": "f94a88f3",
   "metadata": {},
   "outputs": [
    {
     "name": "stdout",
     "output_type": "stream",
     "text": [
      "0.29845095856969295\n"
     ]
    },
    {
     "data": {
      "text/plain": [
       "[<matplotlib.lines.Line2D at 0x11699d82fe0>]"
      ]
     },
     "execution_count": 62,
     "metadata": {},
     "output_type": "execute_result"
    },
    {
     "data": {
      "image/png": "[encoded data removed]",
      "text/plain": [
       "<Figure size 432x288 with 1 Axes>"
      ]
     },
     "metadata": {
      "needs_background": "light"
     },
     "output_type": "display_data"
    }
   ],
   "source": [
    "x5=data[\"X5 latitude\"]\n",
    "x5=x5.values.reshape(-1,1)\n",
    "reg=reg.fit(x5,y)\n",
    "output_5=reg.predict(x5)\n",
    "r5=reg.score(x5,y)\n",
    "print(r5)\n",
    "plt.scatter(x5,y,color=\"Green\")\n",
    "plt.plot(x5,output_5,color=\"Red\")"
   ]
  },
  {
   "cell_type": "code",
   "execution_count": 63,
   "id": "b6c1304d",
   "metadata": {},
   "outputs": [
    {
     "name": "stdout",
     "output_type": "stream",
     "text": [
      "0.27382876843836945\n"
     ]
    },
    {
     "data": {
      "text/plain": [
       "[<matplotlib.lines.Line2D at 0x11699df5360>]"
      ]
     },
     "execution_count": 63,
     "metadata": {},
     "output_type": "execute_result"
    },
    {
     "data": {
      "image/png": "[encoded data removed]",
      "text/plain": [
       "<Figure size 432x288 with 1 Axes>"
      ]
     },
     "metadata": {
      "needs_background": "light"
     },
     "output_type": "display_data"
    }
   ],
   "source": [
    "x6=data[\"X6 longitude\"]\n",
    "x6=x6.values.reshape(-1,1)\n",
    "reg=reg.fit(x6,y)\n",
    "output_6=reg.predict(x6)\n",
    "r6=reg.score(x6,y)\n",
    "print(r6)\n",
    "plt.scatter(x6,y,color=\"Green\")\n",
    "plt.plot(x6,output_6,color=\"Red\")"
   ]
  },
  {
   "cell_type": "code",
   "execution_count": 64,
   "id": "6044c95c",
   "metadata": {},
   "outputs": [],
   "source": [
    "finaloutput= (r1*output_1 + r2*output_2 + r3*output_3 + r4*output_4 + r5*output_5 + r6*output_6)/(r1+r2+r3+r4+r5+r6)"
   ]
  },
  {
   "cell_type": "code",
   "execution_count": 65,
   "id": "c11d7180",
   "metadata": {},
   "outputs": [
    {
     "data": {
      "text/plain": [
       "array([46.22170644, 44.78596823, 43.10576325, 43.10385287, 42.39461392,\n",
       "       32.17716933, 42.28424214, 43.25900077, 18.87410973, 33.78056728,\n",
       "       38.14082645, 44.96726529, 39.82434268, 31.55361258, 40.70810829,\n",
       "       40.61200937, 43.23240544, 38.41590169, 42.87883313, 42.8927025 ,\n",
       "       31.89667014, 43.5979025 , 34.6546231 , 43.59339159, 40.23039816,\n",
       "       35.01259485, 42.74214859, 39.34444795, 40.22812971, 42.17137596,\n",
       "       21.31560758, 42.2139298 , 37.98438708, 42.99277057, 44.58161861,\n",
       "       32.90588676, 32.36106807, 34.68181962, 42.07312469, 42.98281819,\n",
       "       22.29305242, 22.46085886, 39.34012777, 43.56810007, 41.32634171,\n",
       "       42.80776397, 43.59114518, 39.39865383, 20.9362947 , 21.98836838,\n",
       "       40.32833392, 34.24212372, 35.59515859, 39.82578096, 42.98167896,\n",
       "       32.41445645, 43.02590405, 41.14232013, 22.00039378, 38.98090667,\n",
       "       32.3959088 , 43.12435041, 32.09817902, 41.32713587, 36.35243395,\n",
       "       44.28452156, 41.62472392, 41.28374199, 42.28225198, 43.09485407,\n",
       "       44.97063696, 39.39032216, 43.20525185, 22.29530787, 45.5504995 ,\n",
       "       34.68710168, 39.70653009, 32.05713623, 38.70215322, 34.51466233,\n",
       "       41.25216262, 40.65930813, 42.585891  , 30.08925406, 42.23006156,\n",
       "       43.77540577, 34.47616793, 22.46197508, 36.38328339, 23.21924644,\n",
       "       38.60293566, 36.39643561, 31.55777841, 32.44787735, 40.77254161,\n",
       "       41.27429411, 44.96840453, 39.35798136, 42.98698403, 44.96840453,\n",
       "       40.78648523, 38.53924885, 41.62584014, 40.15715835, 40.82401901,\n",
       "       43.22280751, 44.37699861, 34.68405206, 38.40617002, 32.30727665,\n",
       "       41.2773207 , 43.5478431 , 32.19848332, 40.2955578 , 44.78839719,\n",
       "       40.26809689, 15.35680555, 21.68043106, 34.25480458, 42.98730608,\n",
       "       39.82771435, 39.83299641, 42.05576122, 37.84113072, 43.59115916,\n",
       "       41.62777354, 39.72821644, 42.75000815, 41.5534645 , 43.88935649,\n",
       "       43.3678623 , 32.30536627, 41.02709788, 44.9422087 , 41.52767632,\n",
       "       36.39888305, 42.34187719, 41.31500588, 36.22126679, 39.81938268,\n",
       "       42.98472857, 35.14571197, 40.89611615, 39.83299641, 34.68068039,\n",
       "       42.20726328, 37.82577863, 43.0654015 , 22.63599186, 43.73767978,\n",
       "       42.37153689, 44.68428745, 34.68564038, 39.35012502, 22.4600647 ,\n",
       "       22.29530787, 32.0373726 , 39.93371371, 42.34604303, 39.92505999,\n",
       "       41.92865905, 39.83533432, 22.44994968, 41.28374199, 37.82768901,\n",
       "       38.61950489, 43.23624922, 43.31803449, 39.91100262, 34.21647238,\n",
       "       21.23696157, 42.7477527 , 44.97063696, 42.16282965, 43.26262673,\n",
       "       39.15648903, 21.24843183, 44.82948235, 40.82748617, 37.82953192,\n",
       "       21.57619122, 45.22078571, 32.22992092, 22.27755924, 32.67261613,\n",
       "       35.3724099 , 32.06164714, 32.00414123, 44.23580159, 22.45141097,\n",
       "       42.94103428, 39.57413163, 42.43013405, 42.90150715, 22.71433451,\n",
       "       38.73065753, 40.30580423, 43.14181782, 42.23088486, 42.95608686,\n",
       "       36.35516151, 43.10353081, 39.35276414, 42.97607485, 34.51466233,\n",
       "       35.52535463, 45.43586315, 39.21221034, 34.6761925 , 43.7722482 ,\n",
       "       42.40837769, 38.60868982, 36.13436665, 44.9623053 , 33.78279972,\n",
       "       43.41852932, 37.60464683, 42.62845789, 39.83108603, 43.38677206,\n",
       "       44.79948336, 36.39914015, 44.95853881, 36.39643561, 42.71390474,\n",
       "       41.62968392, 22.27002173, 44.23199087, 33.30369792, 32.42568612,\n",
       "       32.30536627, 22.3657822 , 22.41837403, 44.53218109, 32.4157618 ,\n",
       "       42.23584205, 45.57106544, 36.56791014, 36.56756506, 36.62540811,\n",
       "       33.14108125, 42.24675123, 32.58470522, 44.55157458, 35.1423403 ,\n",
       "       41.45404878, 41.01552252, 36.07196628, 36.39999927, 17.07657467,\n",
       "       42.3320275 , 32.41711218, 44.95893362, 32.94722762, 43.10328471,\n",
       "       18.87378768, 38.46301099, 37.8049573 , 43.23624922, 36.61898682,\n",
       "       35.72498581, 31.41152704, 42.97944652, 32.30425005, 42.18310329,\n",
       "       39.92729243, 33.77751767, 40.95508323, 42.31116791, 36.6178706 ,\n",
       "       38.54174758, 42.94854935, 39.8204989 , 38.54871975, 42.40877916,\n",
       "       42.8927025 , 38.69202069, 32.06501881, 40.15715835, 34.95607665,\n",
       "       41.65189003, 44.682032  , 34.47651301, 35.38306881, 42.22703496,\n",
       "       39.12013815, 44.96086702, 38.69122653, 42.99865121, 43.00490467,\n",
       "       37.22701658, 41.14118089, 38.64338223, 42.24034068, 42.91597245,\n",
       "       32.08037535, 40.81498867, 40.24447376, 22.27609794, 46.01034136,\n",
       "       40.54873308, 37.27574948, 31.4168091 , 37.23595415, 34.15847251,\n",
       "       42.98088479, 38.53437867, 31.98006396, 42.98698403, 32.03288471,\n",
       "       35.14623432, 40.27299681, 43.52771738, 41.28148654, 42.08177841,\n",
       "       35.55949696, 42.24417372, 38.7217906 , 45.55769194, 39.08454565,\n",
       "       21.67547106, 40.7778315 , 38.51970758, 43.07032624, 33.12038807,\n",
       "       42.80776397, 41.15097385, 40.4830814 , 34.98927229, 21.68043106,\n",
       "       32.41833777, 21.31414629, 38.60031872, 41.27203865, 41.38719987,\n",
       "       40.88951936, 35.42990387, 40.70236252, 43.66230566, 43.11384882,\n",
       "       37.67546227, 39.57187617, 44.95670119, 43.38210775, 32.72200734,\n",
       "       37.82386825, 33.13129725, 16.49374415, 43.11455745, 41.27203865,\n",
       "       39.82466474, 32.20579818, 30.32537613, 32.30457211, 34.68598546,\n",
       "       42.75000815, 38.53347725, 43.79075786, 41.62777354, 33.06467311,\n",
       "       46.20385418, 43.31421652, 40.77881698, 46.08232311, 42.3133078 ,\n",
       "       32.32609296, 33.92666754, 32.77249718, 38.42728297, 32.05569795,\n",
       "       42.97560274, 39.35105647, 42.22976864, 38.60868982, 42.4010352 ,\n",
       "       35.84504445, 33.13424121, 41.93505732, 42.78106447, 43.23431582,\n",
       "       43.00331635, 45.66053464, 23.46139771, 40.8764903 , 22.44915552,\n",
       "       46.34144877, 37.82768901, 32.13941374, 32.24865346, 43.06887386,\n",
       "       43.76338181, 33.80790625, 42.24013102, 40.77080736, 23.72778066,\n",
       "       40.32079641, 38.24579219, 40.70699207, 33.13424121, 38.54118225,\n",
       "       41.02741993, 32.18277344, 38.51745213, 45.44887514, 42.98505063,\n",
       "       40.14004422, 42.67710624, 33.05634144, 32.12409835, 22.29225826,\n",
       "       44.95749535, 43.26651592, 41.27541032, 44.96952075])"
      ]
     },
     "execution_count": 65,
     "metadata": {},
     "output_type": "execute_result"
    }
   ],
   "source": [
    "finaloutput"
   ]
  },
  {
   "cell_type": "code",
   "execution_count": 54,
   "id": "d80c01a0",
   "metadata": {},
   "outputs": [
    {
     "data": {
      "text/plain": [
       "37.980193236714975"
      ]
     },
     "execution_count": 54,
     "metadata": {},
     "output_type": "execute_result"
    }
   ],
   "source": [
    "mean=y.mean()\n",
    "mean"
   ]
  },
  {
   "cell_type": "code",
   "execution_count": 58,
   "id": "64ed8304",
   "metadata": {},
   "outputs": [
    {
     "name": "stdout",
     "output_type": "stream",
     "text": [
      "0.22498389886286807\n"
     ]
    }
   ],
   "source": [
    "num=0\n",
    "den=0\n",
    "for i in range(414):\n",
    "    num=num+(finaloutput[i]-mean)**2\n",
    "for i in range(414):\n",
    "    den=den+(y[i]-mean)**2\n",
    "\n",
    "rsquare=num/den\n",
    "print(rsquare)"
   ]
  },
  {
   "cell_type": "code",
   "execution_count": 66,
   "id": "7aef4b12",
   "metadata": {},
   "outputs": [
    {
     "name": "stdout",
     "output_type": "stream",
     "text": [
      "17202.578841395953 76461.37758454106\n"
     ]
    }
   ],
   "source": [
    "print(num,den)"
   ]
  },
  {
   "cell_type": "code",
   "execution_count": 67,
   "id": "6f485c6b",
   "metadata": {},
   "outputs": [],
   "source": [
    "x=data.drop([\"No\",\"Y house price of unit area\"],axis=1)"
   ]
  },
  {
   "cell_type": "code",
   "execution_count": 68,
   "id": "8478253d",
   "metadata": {},
   "outputs": [],
   "source": [
    "reg=reg.fit(x,y)"
   ]
  },
  {
   "cell_type": "code",
   "execution_count": 69,
   "id": "b79874b7",
   "metadata": {},
   "outputs": [],
   "source": [
    "output=reg.predict(x)"
   ]
  },
  {
   "cell_type": "code",
   "execution_count": 70,
   "id": "ff64b8ba",
   "metadata": {},
   "outputs": [
    {
     "data": {
      "text/plain": [
       "array([47.1689389 , 47.82573429, 48.79677789, 48.36964101, 46.13886467,\n",
       "       31.13584564, 38.61587363, 46.85211217,  9.16603868, 34.77290915,\n",
       "       33.57234765, 53.09676524, 40.81426207, 26.94175908, 45.60486371,\n",
       "       38.10925895, 50.74281482, 37.18549698, 46.73342273, 47.53381528,\n",
       "       35.27726629, 49.46841634, 28.83473867, 47.85745455, 34.85705632,\n",
       "       31.97023446, 46.14266672, 42.09675228, 42.74715351, 45.6877317 ,\n",
       "       13.30333363, 40.52337885, 30.63871176, 46.3959655 , 47.09156123,\n",
       "       33.19408286, 30.47381406, 30.84947324, 44.37062824, 45.87840415,\n",
       "       14.39995637, 16.50429405, 36.5591134 , 40.18913549, 47.67033493,\n",
       "       39.75218341, 46.77260072, 37.498337  , 12.6294391 ,  9.47655036,\n",
       "       41.79896601, 23.81663298, 34.86234689, 41.58762719, 45.47309058,\n",
       "       23.27524433, 43.40062271, 45.86319892, 13.52063193, 40.65937162,\n",
       "       34.01289788, 50.38387703, 29.69016815, 47.69730448, 33.19569059,\n",
       "       43.58378684, 47.0337209 , 47.08418389, 43.21229344, 45.15286365,\n",
       "       54.30241347, 35.03310145, 45.08136703, 15.20543727, 52.77691775,\n",
       "       32.48225835, 37.96185246, 28.37132844, 32.83403524, 28.07123075,\n",
       "       44.78896948, 37.86100484, 45.82221746, 24.61611573, 44.26336264,\n",
       "       49.35986917, 31.25565781, 16.90446138, 36.91305869, 16.47268166,\n",
       "       42.59419824, 38.58335361, 28.17437685, 23.60122166, 34.96992405,\n",
       "       44.21878101, 53.5020788 , 37.51677989, 47.11102192, 53.5020788 ,\n",
       "       44.70209776, 39.39880035, 47.43388824, 43.8320985 , 35.46822843,\n",
       "       48.59683797, 47.91075847, 31.64980791, 36.27683348, 36.79268667,\n",
       "       45.04608522, 44.9735491 , 33.95184656, 43.26435495, 43.39173728,\n",
       "       38.54774308,  1.28869657, 13.27337403, 33.82588955, 47.48421971,\n",
       "       42.0199103 , 43.65269541, 40.45876605, 44.0157988 , 47.05711988,\n",
       "       47.86617134, 35.24421939, 48.95413052, 37.13838997, 43.50191544,\n",
       "       44.82269898, 36.36554979, 40.52965964, 47.76014544, 36.67083254,\n",
       "       30.72957061, 43.98567692, 45.45084128, 38.38274752, 39.55467475,\n",
       "       46.30554103, 39.86427813, 41.9064357 , 43.65269541, 30.44415968,\n",
       "       46.18193518, 40.58326509, 47.0460578 , 15.52485675, 40.24211519,\n",
       "       40.48204436, 54.60890578, 31.703747  , 43.46461278, 16.4773245 ,\n",
       "       15.20543727, 26.7526556 , 42.23118235, 45.2182947 , 39.39274901,\n",
       "       47.22889432, 41.61149268, 12.86037981, 47.08418389, 41.01040197,\n",
       "       35.20504364, 51.6022348 , 45.39489213, 37.06885392, 30.91914963,\n",
       "       12.72370306, 48.14864962, 54.30241347, 37.30181551, 51.72630935,\n",
       "       35.95543305, 12.9668058 , 44.80389576, 45.76226923, 39.4355048 ,\n",
       "        9.22095423, 51.58423096, 33.80344304, 16.05610558, 21.86127648,\n",
       "       30.42560483, 29.98229023, 22.34767653, 42.30700947, 13.63889116,\n",
       "       43.8782201 , 39.26923236, 38.49980648, 48.40587153, 16.05093147,\n",
       "       40.01236888, 37.6832102 , 42.5779831 , 39.97086697, 46.44291762,\n",
       "       33.65494324, 47.99644322, 33.40611726, 43.46710768, 28.07123075,\n",
       "       37.15396984, 50.3373016 , 33.98243351, 28.83834411, 41.13278075,\n",
       "       49.5174593 , 43.8807551 , 37.48862488, 51.83717792, 35.57324382,\n",
       "       46.62233896, 32.3241297 , 41.37438877, 43.22555853, 42.37859516,\n",
       "       44.9465048 , 39.03746003, 49.06052741, 38.58335361, 41.9157219 ,\n",
       "       48.29330822, 13.61783957, 43.4517874 , 34.35596357, 27.15608561,\n",
       "       36.36554979, 13.05535249, 12.05702149, 44.36034853, 34.15484693,\n",
       "       43.46814562, 54.90444001, 38.1058019 , 37.72745789, 34.68623029,\n",
       "       33.35615404, 47.11205986, 33.91165013, 46.59718029, 38.6586299 ,\n",
       "       45.75076263, 43.76441871, 31.58325155, 31.12973794,  7.44286765,\n",
       "       39.64279738, 23.6936577 , 50.63152969, 26.00327121, 47.30442895,\n",
       "        8.79284089, 37.58622816, 39.39926443, 51.6022348 , 32.64813162,\n",
       "       37.3716589 , 29.78770168, 44.67275592, 35.96538246, 39.99881151,\n",
       "       40.19308368, 33.94045871, 36.62628654, 45.85397704, 32.24796429,\n",
       "       42.30729777, 44.00465161, 39.95484208, 42.26934946, 42.64682811,\n",
       "       47.53381528, 37.24686289, 31.18793846, 43.8320985 , 40.57232842,\n",
       "       48.034122  , 53.80342488, 31.63400182, 32.89158843, 43.43605842,\n",
       "       36.46078208, 51.0638128 , 37.21989335, 48.08265149, 47.35297743,\n",
       "       30.96500731, 45.45788536, 39.03384011, 42.79677063, 45.24509107,\n",
       "       30.68159718, 42.0644159 , 34.00227067, 15.27759423, 47.69159422,\n",
       "       45.25121606, 29.32885281, 31.42048679, 33.05608391, 34.64313888,\n",
       "       45.44612104, 42.36963036, 21.09397249, 47.11102192, 25.14684004,\n",
       "       32.05250613, 40.56683297, 44.72544395, 46.278703  , 47.20906159,\n",
       "       36.20348129, 45.93338117, 37.60624543, 54.83683974, 35.52224037,\n",
       "       12.01378671, 41.86366441, 40.16511165, 44.0670797 , 30.83774979,\n",
       "       39.75218341, 48.70163227, 44.64655539, 34.17512219, 13.27337403,\n",
       "       24.41918891, 12.52482228, 33.33712702, 43.41330011, 39.54192516,\n",
       "       41.98227808, 37.4555298 , 35.64821549, 42.12814176, 50.56999918,\n",
       "       34.51200705, 38.46375146, 49.83119502, 42.66209194, 28.36548641,\n",
       "       40.15612821, 34.48166403, 10.6143669 , 47.14013013, 43.41330011,\n",
       "       41.18745986, 32.84722811, 26.3869225 , 36.33858025, 32.08209102,\n",
       "       48.95413052, 39.96250874, 52.79240289, 47.86617134, 28.9885303 ,\n",
       "       45.63353915, 40.18318581, 44.3713182 , 49.70654385, 42.25359623,\n",
       "       30.14370403, 25.96320219, 30.60618923, 40.48318298, 27.59796331,\n",
       "       43.81333593, 44.90898301, 39.57069963, 43.8807551 , 48.17696334,\n",
       "       30.58023153, 34.13817805, 49.26184676, 40.52778808, 51.1699517 ,\n",
       "       47.29903835, 54.87289997, 13.86232622, 36.96993842, 12.83341026,\n",
       "       51.30410518, 41.01040197, 31.38377394, 34.52386807, 40.54519959,\n",
       "       44.87887237, 31.77536976, 38.17584062, 42.27928043, 15.96378269,\n",
       "       39.3607    , 27.95670762, 45.20469637, 34.13817805, 39.83108345,\n",
       "       40.90285743, 33.14182854, 39.35963075, 44.83116793, 46.67873882,\n",
       "       37.66055535, 49.61817907, 26.52329475, 31.97551893, 14.37298683,\n",
       "       49.85816456, 46.82840869, 44.61894834, 53.90224614])"
      ]
     },
     "execution_count": 70,
     "metadata": {},
     "output_type": "execute_result"
    }
   ],
   "source": [
    "output"
   ]
  },
  {
   "cell_type": "code",
   "execution_count": 72,
   "id": "59ed3737",
   "metadata": {},
   "outputs": [
    {
     "name": "stdout",
     "output_type": "stream",
     "text": [
      "0.5823704472723029\n"
     ]
    },
    {
     "ename": "ValueError",
     "evalue": "x and y must be the same size",
     "output_type": "error",
     "traceback": [
      "\u001b[1;31m---------------------------------------------------------------------------\u001b[0m",
      "\u001b[1;31mValueError\u001b[0m                                Traceback (most recent call last)",
      "Input \u001b[1;32mIn [72]\u001b[0m, in \u001b[0;36m<cell line: 3>\u001b[1;34m()\u001b[0m\n\u001b[0;32m      1\u001b[0m score\u001b[38;5;241m=\u001b[39mreg\u001b[38;5;241m.\u001b[39mscore(x,y)\n\u001b[0;32m      2\u001b[0m \u001b[38;5;28mprint\u001b[39m(score)\n\u001b[1;32m----> 3\u001b[0m \u001b[43mplt\u001b[49m\u001b[38;5;241;43m.\u001b[39;49m\u001b[43mscatter\u001b[49m\u001b[43m(\u001b[49m\u001b[43mx\u001b[49m\u001b[43m,\u001b[49m\u001b[43my\u001b[49m\u001b[43m,\u001b[49m\u001b[43mcolor\u001b[49m\u001b[38;5;241;43m=\u001b[39;49m\u001b[38;5;124;43m\"\u001b[39;49m\u001b[38;5;124;43mGreen\u001b[39;49m\u001b[38;5;124;43m\"\u001b[39;49m\u001b[43m)\u001b[49m\n\u001b[0;32m      4\u001b[0m plt\u001b[38;5;241m.\u001b[39mplot(x,output,color\u001b[38;5;241m=\u001b[39m\u001b[38;5;124m\"\u001b[39m\u001b[38;5;124mRed\u001b[39m\u001b[38;5;124m\"\u001b[39m)\n",
      "File \u001b[1;32m~\\AppData\\Local\\Programs\\Python\\Python310\\lib\\site-packages\\matplotlib\\pyplot.py:2807\u001b[0m, in \u001b[0;36mscatter\u001b[1;34m(x, y, s, c, marker, cmap, norm, vmin, vmax, alpha, linewidths, edgecolors, plotnonfinite, data, **kwargs)\u001b[0m\n\u001b[0;32m   2802\u001b[0m \u001b[38;5;129m@_copy_docstring_and_deprecators\u001b[39m(Axes\u001b[38;5;241m.\u001b[39mscatter)\n\u001b[0;32m   2803\u001b[0m \u001b[38;5;28;01mdef\u001b[39;00m \u001b[38;5;21mscatter\u001b[39m(\n\u001b[0;32m   2804\u001b[0m         x, y, s\u001b[38;5;241m=\u001b[39m\u001b[38;5;28;01mNone\u001b[39;00m, c\u001b[38;5;241m=\u001b[39m\u001b[38;5;28;01mNone\u001b[39;00m, marker\u001b[38;5;241m=\u001b[39m\u001b[38;5;28;01mNone\u001b[39;00m, cmap\u001b[38;5;241m=\u001b[39m\u001b[38;5;28;01mNone\u001b[39;00m, norm\u001b[38;5;241m=\u001b[39m\u001b[38;5;28;01mNone\u001b[39;00m,\n\u001b[0;32m   2805\u001b[0m         vmin\u001b[38;5;241m=\u001b[39m\u001b[38;5;28;01mNone\u001b[39;00m, vmax\u001b[38;5;241m=\u001b[39m\u001b[38;5;28;01mNone\u001b[39;00m, alpha\u001b[38;5;241m=\u001b[39m\u001b[38;5;28;01mNone\u001b[39;00m, linewidths\u001b[38;5;241m=\u001b[39m\u001b[38;5;28;01mNone\u001b[39;00m, \u001b[38;5;241m*\u001b[39m,\n\u001b[0;32m   2806\u001b[0m         edgecolors\u001b[38;5;241m=\u001b[39m\u001b[38;5;28;01mNone\u001b[39;00m, plotnonfinite\u001b[38;5;241m=\u001b[39m\u001b[38;5;28;01mFalse\u001b[39;00m, data\u001b[38;5;241m=\u001b[39m\u001b[38;5;28;01mNone\u001b[39;00m, \u001b[38;5;241m*\u001b[39m\u001b[38;5;241m*\u001b[39mkwargs):\n\u001b[1;32m-> 2807\u001b[0m     __ret \u001b[38;5;241m=\u001b[39m gca()\u001b[38;5;241m.\u001b[39mscatter(\n\u001b[0;32m   2808\u001b[0m         x, y, s\u001b[38;5;241m=\u001b[39ms, c\u001b[38;5;241m=\u001b[39mc, marker\u001b[38;5;241m=\u001b[39mmarker, cmap\u001b[38;5;241m=\u001b[39mcmap, norm\u001b[38;5;241m=\u001b[39mnorm,\n\u001b[0;32m   2809\u001b[0m         vmin\u001b[38;5;241m=\u001b[39mvmin, vmax\u001b[38;5;241m=\u001b[39mvmax, alpha\u001b[38;5;241m=\u001b[39malpha, linewidths\u001b[38;5;241m=\u001b[39mlinewidths,\n\u001b[0;32m   2810\u001b[0m         edgecolors\u001b[38;5;241m=\u001b[39medgecolors, plotnonfinite\u001b[38;5;241m=\u001b[39mplotnonfinite,\n\u001b[0;32m   2811\u001b[0m         \u001b[38;5;241m*\u001b[39m\u001b[38;5;241m*\u001b[39m({\u001b[38;5;124m\"\u001b[39m\u001b[38;5;124mdata\u001b[39m\u001b[38;5;124m\"\u001b[39m: data} \u001b[38;5;28;01mif\u001b[39;00m data \u001b[38;5;129;01mis\u001b[39;00m \u001b[38;5;129;01mnot\u001b[39;00m \u001b[38;5;28;01mNone\u001b[39;00m \u001b[38;5;28;01melse\u001b[39;00m {}), \u001b[38;5;241m*\u001b[39m\u001b[38;5;241m*\u001b[39mkwargs)\n\u001b[0;32m   2812\u001b[0m     sci(__ret)\n\u001b[0;32m   2813\u001b[0m     \u001b[38;5;28;01mreturn\u001b[39;00m __ret\n",
      "File \u001b[1;32m~\\AppData\\Local\\Programs\\Python\\Python310\\lib\\site-packages\\matplotlib\\__init__.py:1412\u001b[0m, in \u001b[0;36m_preprocess_data.<locals>.inner\u001b[1;34m(ax, data, *args, **kwargs)\u001b[0m\n\u001b[0;32m   1409\u001b[0m \u001b[38;5;129m@functools\u001b[39m\u001b[38;5;241m.\u001b[39mwraps(func)\n\u001b[0;32m   1410\u001b[0m \u001b[38;5;28;01mdef\u001b[39;00m \u001b[38;5;21minner\u001b[39m(ax, \u001b[38;5;241m*\u001b[39margs, data\u001b[38;5;241m=\u001b[39m\u001b[38;5;28;01mNone\u001b[39;00m, \u001b[38;5;241m*\u001b[39m\u001b[38;5;241m*\u001b[39mkwargs):\n\u001b[0;32m   1411\u001b[0m     \u001b[38;5;28;01mif\u001b[39;00m data \u001b[38;5;129;01mis\u001b[39;00m \u001b[38;5;28;01mNone\u001b[39;00m:\n\u001b[1;32m-> 1412\u001b[0m         \u001b[38;5;28;01mreturn\u001b[39;00m func(ax, \u001b[38;5;241m*\u001b[39m\u001b[38;5;28mmap\u001b[39m(sanitize_sequence, args), \u001b[38;5;241m*\u001b[39m\u001b[38;5;241m*\u001b[39mkwargs)\n\u001b[0;32m   1414\u001b[0m     bound \u001b[38;5;241m=\u001b[39m new_sig\u001b[38;5;241m.\u001b[39mbind(ax, \u001b[38;5;241m*\u001b[39margs, \u001b[38;5;241m*\u001b[39m\u001b[38;5;241m*\u001b[39mkwargs)\n\u001b[0;32m   1415\u001b[0m     auto_label \u001b[38;5;241m=\u001b[39m (bound\u001b[38;5;241m.\u001b[39marguments\u001b[38;5;241m.\u001b[39mget(label_namer)\n\u001b[0;32m   1416\u001b[0m                   \u001b[38;5;129;01mor\u001b[39;00m bound\u001b[38;5;241m.\u001b[39mkwargs\u001b[38;5;241m.\u001b[39mget(label_namer))\n",
      "File \u001b[1;32m~\\AppData\\Local\\Programs\\Python\\Python310\\lib\\site-packages\\matplotlib\\axes\\_axes.py:4369\u001b[0m, in \u001b[0;36mAxes.scatter\u001b[1;34m(self, x, y, s, c, marker, cmap, norm, vmin, vmax, alpha, linewidths, edgecolors, plotnonfinite, **kwargs)\u001b[0m\n\u001b[0;32m   4367\u001b[0m y \u001b[38;5;241m=\u001b[39m np\u001b[38;5;241m.\u001b[39mma\u001b[38;5;241m.\u001b[39mravel(y)\n\u001b[0;32m   4368\u001b[0m \u001b[38;5;28;01mif\u001b[39;00m x\u001b[38;5;241m.\u001b[39msize \u001b[38;5;241m!=\u001b[39m y\u001b[38;5;241m.\u001b[39msize:\n\u001b[1;32m-> 4369\u001b[0m     \u001b[38;5;28;01mraise\u001b[39;00m \u001b[38;5;167;01mValueError\u001b[39;00m(\u001b[38;5;124m\"\u001b[39m\u001b[38;5;124mx and y must be the same size\u001b[39m\u001b[38;5;124m\"\u001b[39m)\n\u001b[0;32m   4371\u001b[0m \u001b[38;5;28;01mif\u001b[39;00m s \u001b[38;5;129;01mis\u001b[39;00m \u001b[38;5;28;01mNone\u001b[39;00m:\n\u001b[0;32m   4372\u001b[0m     s \u001b[38;5;241m=\u001b[39m (\u001b[38;5;241m20\u001b[39m \u001b[38;5;28;01mif\u001b[39;00m rcParams[\u001b[38;5;124m'\u001b[39m\u001b[38;5;124m_internal.classic_mode\u001b[39m\u001b[38;5;124m'\u001b[39m] \u001b[38;5;28;01melse\u001b[39;00m\n\u001b[0;32m   4373\u001b[0m          rcParams[\u001b[38;5;124m'\u001b[39m\u001b[38;5;124mlines.markersize\u001b[39m\u001b[38;5;124m'\u001b[39m] \u001b[38;5;241m*\u001b[39m\u001b[38;5;241m*\u001b[39m \u001b[38;5;241m2.0\u001b[39m)\n",
      "\u001b[1;31mValueError\u001b[0m: x and y must be the same size"
     ]
    },
    {
     "data": {
      "image/png": "[encoded data removed]",
      "text/plain": [
       "<Figure size 432x288 with 1 Axes>"
      ]
     },
     "metadata": {
      "needs_background": "light"
     },
     "output_type": "display_data"
    }
   ],
   "source": [
    "score=reg.score(x,y)\n",
    "print(score)\n",
    "plt.scatter(x,y,color=\"Green\")\n",
    "plt.plot(x,output,color=\"Red\")"
   ]
  },
  {
   "cell_type": "code",
   "execution_count": null,
   "id": "338dd23d",
   "metadata": {},
   "outputs": [],
   "source": []
  }
 ],
 "metadata": {
  "kernelspec": {
   "display_name": "Python 3 (ipykernel)",
   "language": "python",
   "name": "python3"
  },
  "language_info": {
   "codemirror_mode": {
    "name": "ipython",
    "version": 3
   },
   "file_extension": ".py",
   "mimetype": "text/x-python",
   "name": "python",
   "nbconvert_exporter": "python",
   "pygments_lexer": "ipython3",
   "version": "3.10.3"
  }
 },
 "nbformat": 4,
 "nbformat_minor": 5
}
